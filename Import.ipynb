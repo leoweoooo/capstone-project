{
 "cells": [
  {
   "cell_type": "code",
   "execution_count": null,
   "metadata": {},
   "outputs": [],
   "source": [
    "from modules import data\n",
    "\n",
    "records = data.from_dirs([\n",
    "    './data/processed/mvoc1',\n",
    "    './data/processed/mvoc2',\n",
    "])\n",
    "\n",
    "data.to_json(records, './data/json/ind.json')"
   ]
  },
  {
   "cell_type": "code",
   "execution_count": 1,
   "metadata": {},
   "outputs": [],
   "source": [
    "from modules import data\n",
    "\n",
    "records = data.from_dirs([\n",
    "    './data/processed/exposure_aeec',\n",
    "    './data/processed/exposure_anec',\n",
    "    './data/processed/exposure_aesa',\n",
    "    './data/processed/exposure_ansa',\n",
    "], exp=True)\n",
    "\n",
    "data.to_json(records, './data/json/exp.json')"
   ]
  }
 ],
 "metadata": {
  "kernelspec": {
   "display_name": ".venv",
   "language": "python",
   "name": "python3"
  },
  "language_info": {
   "codemirror_mode": {
    "name": "ipython",
    "version": 3
   },
   "file_extension": ".py",
   "mimetype": "text/x-python",
   "name": "python",
   "nbconvert_exporter": "python",
   "pygments_lexer": "ipython3",
   "version": "3.11.6"
  }
 },
 "nbformat": 4,
 "nbformat_minor": 2
}
